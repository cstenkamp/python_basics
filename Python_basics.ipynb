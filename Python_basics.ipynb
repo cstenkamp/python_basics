{
 "cells": [
  {
   "cell_type": "markdown",
   "metadata": {},
   "source": [
    "# 0. Install Python.\n",
    "* Full version (~700MB): Anaconda https://www.anaconda.com/download/\n",
    "* Light version (~50MB): Miniconda https://conda.io/miniconda.html\n",
    "* Anaconda will ask if it can add itself to your path. If you don't have a previous python installed and/or don't know how to add stuff to your path yourself, I actually recommend that, otherwise you cannot run it from the terminal!\n",
    "* Difference: Miniconda contains less packages, which can however be simply installed as needed.\n",
    "* If you don't want to solely work with jupyter Notebooks, I recommend the Atom-editor for small projects:\n",
    "    * Windows/Mac: https://atom.io/ \n",
    "    * Linux: https://launchpad.net/~webupd8team/+archive/ubuntu/atom\n",
    "    * In Atom, go for Edit/Settings/Install -> Install Hydrogen"
   ]
  },
  {
   "cell_type": "markdown",
   "metadata": {},
   "source": [
    "# 1. Everything is an object\n",
    "\n",
    "The most basic elements of any programming language are atomic types (plain old data). The most basic types of objects in Python are: *integers, floats, strings, and booleans*. They can be created with literals. As everything is an object, there are no real primitives: every object has certain methods.\n"
   ]
  },
  {
   "cell_type": "code",
   "execution_count": 1,
   "metadata": {},
   "outputs": [
    {
     "data": {
      "text/plain": [
       "(int, float, bool)"
      ]
     },
     "execution_count": 1,
     "metadata": {},
     "output_type": "execute_result"
    }
   ],
   "source": [
    "type(-2), type(2.0), type(True)"
   ]
  },
  {
   "cell_type": "code",
   "execution_count": 2,
   "metadata": {},
   "outputs": [
    {
     "name": "stdout",
     "output_type": "stream",
     "text": [
      "<class 'str'>\n",
      "this string contains 'quotation marks'\n",
      "this string contains'these' and \"these\" quotation marks\n"
     ]
    }
   ],
   "source": [
    "# A string\n",
    "'string' \n",
    "print(type('string'))\n",
    "#single or double quotes don't matter. If you want the string to contain one, you use the other. \n",
    "print(\"this string contains 'quotation marks'\")\n",
    "#If you want your string to contain both or contain \\newlines, use three ones\n",
    "print(\"\"\"this string contains'these' and \"these\" quotation marks\"\"\")\n",
    "# there is no char in python!"
   ]
  },
  {
   "cell_type": "markdown",
   "metadata": {},
   "source": [
    "Even, Integers and booleans have methods!"
   ]
  },
  {
   "cell_type": "code",
   "execution_count": 4,
   "metadata": {},
   "outputs": [
    {
     "data": {
      "text/plain": [
       "False"
      ]
     },
     "execution_count": 4,
     "metadata": {},
     "output_type": "execute_result"
    }
   ],
   "source": [
    "\"Hallo\".isnumeric()"
   ]
  },
  {
   "cell_type": "code",
   "execution_count": 14,
   "metadata": {},
   "outputs": [
    {
     "data": {
      "text/plain": [
       "1"
      ]
     },
     "execution_count": 14,
     "metadata": {},
     "output_type": "execute_result"
    }
   ],
   "source": [
    "True.__abs__()"
   ]
  },
  {
   "cell_type": "code",
   "execution_count": 15,
   "metadata": {},
   "outputs": [
    {
     "data": {
      "text/plain": [
       "1"
      ]
     },
     "execution_count": 15,
     "metadata": {},
     "output_type": "execute_result"
    }
   ],
   "source": [
    "abs(True)"
   ]
  },
  {
   "cell_type": "markdown",
   "metadata": {},
   "source": [
    "# Printing things\n",
    "\n",
    "We can print objects using the print function. Up until Python 2.7, print was a keyword (https://www.programiz.com/python-programming/keyword-list), whereas now its a function. Disadvantage: You have to write parantheses. Advantage: You can overwrite it (see later).\n"
   ]
  },
  {
   "cell_type": "code",
   "execution_count": 18,
   "metadata": {},
   "outputs": [
    {
     "name": "stdout",
     "output_type": "stream",
     "text": [
      "2\n",
      "3.0\n",
      "<class 'float'>\n"
     ]
    }
   ],
   "source": [
    "print(2)\n",
    "print(3.0)\n",
    "print(type(3.0))\n",
    "# When printing things, parameters are internally converted to strings"
   ]
  },
  {
   "cell_type": "markdown",
   "metadata": {},
   "source": [
    "We can print as much as we want in one print-call!"
   ]
  },
  {
   "cell_type": "code",
   "execution_count": 21,
   "metadata": {},
   "outputs": [
    {
     "name": "stdout",
     "output_type": "stream",
     "text": [
      "I am Chris and I am 24 years old. That's True\n"
     ]
    }
   ],
   "source": [
    "print(\"I am Chris\", \"and I am\", 24, \"years old.\", \"That's\", True)"
   ]
  },
  {
   "cell_type": "markdown",
   "metadata": {},
   "source": [
    "# Variables\n",
    "Created objects can be assigned to variables. Note that the variable concept of Python is very different from that of languages like Java, were you can initialize variables without assigning a value. In Python, variables are just names for objects.\n",
    "\n",
    "Python is *dynamically typed*, which means that we don't have to know in advance of what type a varible will be!"
   ]
  },
  {
   "cell_type": "code",
   "execution_count": 24,
   "metadata": {},
   "outputs": [
    {
     "name": "stdout",
     "output_type": "stream",
     "text": [
      "2\n"
     ]
    }
   ],
   "source": [
    "a = 2\n",
    "b = 'hello'\n",
    "c = True\n",
    "\n",
    "print(a)"
   ]
  },
  {
   "cell_type": "markdown",
   "metadata": {},
   "source": [
    "We can re-assign variables as much as we want, with every type we want!"
   ]
  },
  {
   "cell_type": "code",
   "execution_count": 25,
   "metadata": {},
   "outputs": [
    {
     "name": "stdout",
     "output_type": "stream",
     "text": [
      "<class 'int'>\n",
      "<class 'str'>\n"
     ]
    }
   ],
   "source": [
    "a = 1\n",
    "print(type(a))\n",
    "a = \"hello\"\n",
    "print(type(a))"
   ]
  },
  {
   "cell_type": "code",
   "execution_count": 30,
   "metadata": {},
   "outputs": [
    {
     "name": "stdout",
     "output_type": "stream",
     "text": [
      "second position is: e\n"
     ]
    },
    {
     "ename": "TypeError",
     "evalue": "'str' object does not support item assignment",
     "output_type": "error",
     "traceback": [
      "\u001b[0;31m---------------------------------------------------------------------------\u001b[0m",
      "\u001b[0;31mTypeError\u001b[0m                                 Traceback (most recent call last)",
      "\u001b[0;32m<ipython-input-30-94a49a898518>\u001b[0m in \u001b[0;36m<module>\u001b[0;34m()\u001b[0m\n\u001b[1;32m      2\u001b[0m \u001b[0mb\u001b[0m \u001b[0;34m=\u001b[0m \u001b[0;34m\"hello\"\u001b[0m\u001b[0;34m\u001b[0m\u001b[0m\n\u001b[1;32m      3\u001b[0m \u001b[0mprint\u001b[0m\u001b[0;34m(\u001b[0m\u001b[0;34m\"second position is:\"\u001b[0m\u001b[0;34m,\u001b[0m \u001b[0mb\u001b[0m\u001b[0;34m[\u001b[0m\u001b[0;36m1\u001b[0m\u001b[0;34m]\u001b[0m\u001b[0;34m)\u001b[0m\u001b[0;34m\u001b[0m\u001b[0m\n\u001b[0;32m----> 4\u001b[0;31m \u001b[0mb\u001b[0m\u001b[0;34m[\u001b[0m\u001b[0;36m1\u001b[0m\u001b[0;34m]\u001b[0m \u001b[0;34m=\u001b[0m \u001b[0;34m\"a\"\u001b[0m\u001b[0;34m\u001b[0m\u001b[0m\n\u001b[0m",
      "\u001b[0;31mTypeError\u001b[0m: 'str' object does not support item assignment"
     ]
    }
   ],
   "source": [
    "# Strings are immutable\n",
    "b = \"hello\"\n",
    "print(\"second position is:\", b[1])\n",
    "b[1] = \"a\""
   ]
  },
  {
   "cell_type": "markdown",
   "metadata": {},
   "source": [
    "## Quick quiz"
   ]
  },
  {
   "cell_type": "code",
   "execution_count": 31,
   "metadata": {},
   "outputs": [],
   "source": [
    "# Assume we execute:\n",
    "a = 1\n",
    "b = a\n",
    "a = 2\n",
    "# Value of \"b\" is...?"
   ]
  },
  {
   "cell_type": "markdown",
   "metadata": {},
   "source": [
    "Python 3.6 introduced a nice way of including variables in print-statements:"
   ]
  },
  {
   "cell_type": "code",
   "execution_count": 20,
   "metadata": {},
   "outputs": [
    {
     "name": "stdout",
     "output_type": "stream",
     "text": [
      "Hello, I am Chris, and I am 24 years old\n"
     ]
    }
   ],
   "source": [
    "my_name = \"Chris\"\n",
    "my_age = 24\n",
    "print(f\"Hello, I am {my_name}, and I am {my_age} years old\")"
   ]
  },
  {
   "cell_type": "markdown",
   "metadata": {},
   "source": [
    "# Operators"
   ]
  },
  {
   "cell_type": "code",
   "execution_count": 32,
   "metadata": {},
   "outputs": [
    {
     "name": "stdout",
     "output_type": "stream",
     "text": [
      "a + b =  5\n",
      "a - b =  -1\n",
      "a * b =  6\n",
      "a ** b =  8\n",
      "a / b =  0.6666666666666666\n",
      "a // b =  0\n",
      "b % a =  1\n",
      "3\n",
      "<class 'int'> <class 'int'> <class 'float'>\n"
     ]
    }
   ],
   "source": [
    "# Standard math operators work as expected on numbers\n",
    "a = 2\n",
    "b = 3\n",
    "\n",
    "print('a + b = ', a + b)\n",
    "print('a - b = ', a - b)\n",
    "print('a * b = ', a * b)\n",
    "print('a ** b = ', a ** b)  # a to the power of b (a^b is a bit-wise XOR!)\n",
    "print('a / b = ', a / b)\n",
    "print('a // b = ', a // b)  # Integer division \n",
    "print('b % a = ', b % a)    # Modulo operator (divide, return remainder)\n",
    "\n",
    "a += 1 # a = a+1\n",
    "print(a)\n",
    "\n",
    "\n",
    "print(type(a), type(b), type(a/b))"
   ]
  },
  {
   "cell_type": "code",
   "execution_count": 33,
   "metadata": {},
   "outputs": [
    {
     "name": "stdout",
     "output_type": "stream",
     "text": [
      "helloworld\n",
      "hellohellohello\n"
     ]
    }
   ],
   "source": [
    "# There are also operators for strings\n",
    "print('hello' + 'world')\n",
    "print('hello' * 3) # we can multiply strings and integers works\n",
    "# print('hello' / 3) # but can't divide\n",
    "# print('hello' * 3.5) # does not work either"
   ]
  },
  {
   "cell_type": "code",
   "execution_count": 34,
   "metadata": {},
   "outputs": [
    {
     "name": "stdout",
     "output_type": "stream",
     "text": [
      "a > b ? False\n",
      "a >= b ? False\n",
      "a == b ? False\n",
      "a != b ? True\n",
      "a < b ? True\n",
      "a <= b ? True\n"
     ]
    }
   ],
   "source": [
    "# Boolean operators compare two things\n",
    "a = 2\n",
    "b = 3\n",
    "\n",
    "print('a > b ?', a > b)\n",
    "print('a >= b ?', a >= b)\n",
    "print('a == b ?', a == b)\n",
    "print('a != b ?', a != b)\n",
    "print('a < b ?', a < b)\n",
    "print('a <= b ?', a <= b)"
   ]
  },
  {
   "cell_type": "code",
   "execution_count": 35,
   "metadata": {},
   "outputs": [
    {
     "name": "stdout",
     "output_type": "stream",
     "text": [
      "False\n",
      "True\n",
      "True\n",
      "False\n",
      "True\n",
      "False\n"
     ]
    }
   ],
   "source": [
    "# We can assign the result of a comparison to a variable\n",
    "a = (1 > 3)\n",
    "b = 3 == 3\n",
    "print(a)\n",
    "print(b)\n",
    "# Boolean operators that work on booleans\n",
    "print(a or b)\n",
    "print(a and b)\n",
    "print(a is not b) # for atomic types, is and == are the same. Don't assume that for complex objects though!\n",
    "print(a is b)   \n",
    "#There is also | and &, which are equal for booleans, but different for numbers (work on binary level)"
   ]
  },
  {
   "cell_type": "markdown",
   "metadata": {},
   "source": [
    "# Functions()"
   ]
  },
  {
   "cell_type": "code",
   "execution_count": 36,
   "metadata": {},
   "outputs": [
    {
     "name": "stdout",
     "output_type": "stream",
     "text": [
      "<class 'int'>\n",
      "5\n",
      "3\n"
     ]
    }
   ],
   "source": [
    "# There are thousands of functions that operate on things\n",
    "print(type(3))\n",
    "print(len('hello'))\n",
    "print(round(3.3))"
   ]
  },
  {
   "cell_type": "markdown",
   "metadata": {},
   "source": [
    "### Defining functions:\n",
    "\n",
    "In Python, you neither have to specify the return type of a function (again because python is *dynamically typed*), nor the visibility (...because in python there is no concept of visibility modifiers and everything is always public)"
   ]
  },
  {
   "cell_type": "code",
   "execution_count": 45,
   "metadata": {},
   "outputs": [],
   "source": [
    "def double_something(number):\n",
    "    return number*2"
   ]
  },
  {
   "cell_type": "code",
   "execution_count": 46,
   "metadata": {},
   "outputs": [
    {
     "data": {
      "text/plain": [
       "4"
      ]
     },
     "execution_count": 46,
     "metadata": {},
     "output_type": "execute_result"
    }
   ],
   "source": [
    "double_something(2)"
   ]
  },
  {
   "cell_type": "markdown",
   "metadata": {},
   "source": [
    "While Python's dynamic typing is great, it leads to side effects:"
   ]
  },
  {
   "cell_type": "code",
   "execution_count": 47,
   "metadata": {},
   "outputs": [
    {
     "data": {
      "text/plain": [
       "'hallohallo'"
      ]
     },
     "execution_count": 47,
     "metadata": {},
     "output_type": "execute_result"
    }
   ],
   "source": [
    "double_something(\"hallo\")"
   ]
  },
  {
   "cell_type": "code",
   "execution_count": 48,
   "metadata": {},
   "outputs": [
    {
     "data": {
      "text/plain": [
       "2"
      ]
     },
     "execution_count": 48,
     "metadata": {},
     "output_type": "execute_result"
    }
   ],
   "source": [
    "double_something(True)"
   ]
  },
  {
   "cell_type": "code",
   "execution_count": 58,
   "metadata": {},
   "outputs": [],
   "source": [
    "def double_something(number):\n",
    "    if isinstance(number, (int, float)) and not isinstance(number, bool):\n",
    "        return number*2\n",
    "    return None"
   ]
  },
  {
   "cell_type": "code",
   "execution_count": 59,
   "metadata": {},
   "outputs": [],
   "source": [
    "double_something(True)"
   ]
  },
  {
   "cell_type": "code",
   "execution_count": 60,
   "metadata": {},
   "outputs": [
    {
     "data": {
      "text/plain": [
       "4"
      ]
     },
     "execution_count": 60,
     "metadata": {},
     "output_type": "execute_result"
    }
   ],
   "source": [
    "double_something(2)"
   ]
  },
  {
   "cell_type": "markdown",
   "metadata": {},
   "source": [
    "# .methods()"
   ]
  },
  {
   "cell_type": "markdown",
   "metadata": {},
   "source": [
    "n the simplest terms, you can think of an object as a containing both data and behavior, i.e. functions that operate on that data. For example, strings in Python are objects that contain a set of characters and also various functions that operate on the set of characters. When bundled in an object, these functions are called \"methods\".\n",
    "\n",
    "Instead of the \"normal\" function(arguments) syntax, methods are called using the syntax variable.method(arguments)."
   ]
  },
  {
   "cell_type": "code",
   "execution_count": 63,
   "metadata": {},
   "outputs": [
    {
     "name": "stdout",
     "output_type": "stream",
     "text": [
      "hello, world <class 'str'>\n",
      "5 <class 'int'>\n"
     ]
    }
   ],
   "source": [
    "# A string is actually an object\n",
    "a = 'hello, world'\n",
    "b = 5\n",
    "print(a, type(a))\n",
    "print(b, type(b))"
   ]
  },
  {
   "cell_type": "code",
   "execution_count": 64,
   "metadata": {},
   "outputs": [
    {
     "name": "stdout",
     "output_type": "stream",
     "text": [
      "Hello, world\n",
      "heXXo, worXd\n",
      "hello, world\n",
      "HELLO, WORLD\n",
      "False\n",
      "False\n",
      "False\n"
     ]
    }
   ],
   "source": [
    "# Objects have bundled methods\n",
    "print(a.capitalize())\n",
    "print(a.replace('l', 'X'))\n",
    "print(a.lower())\n",
    "print(a.upper())\n",
    "print(a.isnumeric())\n",
    "print(a.isalpha()) \n",
    "print(a.isalnum())\n",
    "# print(all([i.isalnum() or i in \" ,\" for i in a]))"
   ]
  },
  {
   "cell_type": "markdown",
   "metadata": {},
   "source": [
    "To show all methods and attributes of an object:"
   ]
  },
  {
   "cell_type": "code",
   "execution_count": 66,
   "metadata": {},
   "outputs": [
    {
     "name": "stdout",
     "output_type": "stream",
     "text": [
      "['__add__', '__class__', '__contains__', '__delattr__', '__dir__', '__doc__', '__eq__', '__format__', '__ge__', '__getattribute__', '__getitem__', '__getnewargs__', '__gt__', '__hash__', '__init__', '__init_subclass__', '__iter__', '__le__', '__len__', '__lt__', '__mod__', '__mul__', '__ne__', '__new__', '__reduce__', '__reduce_ex__', '__repr__', '__rmod__', '__rmul__', '__setattr__', '__sizeof__', '__str__', '__subclasshook__', 'capitalize', 'casefold', 'center', 'count', 'encode', 'endswith', 'expandtabs', 'find', 'format', 'format_map', 'index', 'isalnum', 'isalpha', 'isdecimal', 'isdigit', 'isidentifier', 'islower', 'isnumeric', 'isprintable', 'isspace', 'istitle', 'isupper', 'join', 'ljust', 'lower', 'lstrip', 'maketrans', 'partition', 'replace', 'rfind', 'rindex', 'rjust', 'rpartition', 'rsplit', 'rstrip', 'split', 'splitlines', 'startswith', 'strip', 'swapcase', 'title', 'translate', 'upper', 'zfill']\n"
     ]
    }
   ],
   "source": [
    "print(dir(\"some string\"))"
   ]
  },
  {
   "cell_type": "markdown",
   "metadata": {},
   "source": [
    "The methods that start and end with two underscores are *magic methods* or *dunder-methods*. While they can be called directly, the are the internal definition of Python's operators:"
   ]
  },
  {
   "cell_type": "code",
   "execution_count": 68,
   "metadata": {},
   "outputs": [
    {
     "data": {
      "text/plain": [
       "6"
      ]
     },
     "execution_count": 68,
     "metadata": {},
     "output_type": "execute_result"
    }
   ],
   "source": [
    "len(\"123456\")"
   ]
  },
  {
   "cell_type": "markdown",
   "metadata": {},
   "source": [
    "Python's interpreter simply changes that to...:"
   ]
  },
  {
   "cell_type": "code",
   "execution_count": 67,
   "metadata": {},
   "outputs": [
    {
     "data": {
      "text/plain": [
       "6"
      ]
     },
     "execution_count": 67,
     "metadata": {},
     "output_type": "execute_result"
    }
   ],
   "source": [
    "\"123456\".__len__()"
   ]
  },
  {
   "cell_type": "raw",
   "metadata": {},
   "source": [
    "\n",
    "\n",
    "\n",
    "\n",
    "\n",
    "\n",
    "\n",
    "\n",
    "\n",
    "\n",
    "\n"
   ]
  },
  {
   "cell_type": "markdown",
   "metadata": {},
   "source": [
    "**TIP**: To find out what a function or method does, you can type it's name and then a question mark to get a pop up help window. Or, to see what arguments it takes, you can type its name, an open parenthesis, and hit tab.\n"
   ]
  },
  {
   "cell_type": "code",
   "execution_count": 3,
   "metadata": {
    "scrolled": true
   },
   "outputs": [
    {
     "data": {
      "text/plain": [
       "3.14"
      ]
     },
     "execution_count": 3,
     "metadata": {},
     "output_type": "execute_result"
    }
   ],
   "source": [
    "round?\n",
    "#round(\n",
    "round(3.14159, 2)"
   ]
  },
  {
   "cell_type": "code",
   "execution_count": 70,
   "metadata": {
    "scrolled": true
   },
   "outputs": [
    {
     "name": "stdout",
     "output_type": "stream",
     "text": [
      "Help on built-in function isalpha:\n",
      "\n",
      "isalpha(...) method of builtins.str instance\n",
      "    S.isalpha() -> bool\n",
      "    \n",
      "    Return True if all characters in S are alphabetic\n",
      "    and there is at least one character in S, False otherwise.\n",
      "\n"
     ]
    }
   ],
   "source": [
    "help(\"\".isalpha)"
   ]
  },
  {
   "cell_type": "markdown",
   "metadata": {},
   "source": [
    "# Collections"
   ]
  },
  {
   "cell_type": "code",
   "execution_count": 1,
   "metadata": {},
   "outputs": [
    {
     "name": "stdout",
     "output_type": "stream",
     "text": [
      "['blueberry', 'strawberry', 'pineapple'] <class 'list'>\n"
     ]
    }
   ],
   "source": [
    "# Lists are created with square bracket syntax\n",
    "a = ['blueberry', 'strawberry', 'pineapple']\n",
    "print(a, type(a))"
   ]
  },
  {
   "cell_type": "code",
   "execution_count": 2,
   "metadata": {},
   "outputs": [
    {
     "name": "stdout",
     "output_type": "stream",
     "text": [
      "['blueberry', 5, 3.1415, True, 'hello world', [1, 2, 3], <object object at 0x7f219df4dba0>]\n"
     ]
    }
   ],
   "source": [
    "# It doesn't matter what types are inside the list!\n",
    "tmp = object()\n",
    "b = ['blueberry', 5, 3.1415, True, \"hello world\", [1,2,3], tmp]\n",
    "print(b)"
   ]
  },
  {
   "cell_type": "code",
   "execution_count": 3,
   "metadata": {},
   "outputs": [
    {
     "name": "stdout",
     "output_type": "stream",
     "text": [
      "blueberry\n",
      "strawberry\n"
     ]
    }
   ],
   "source": [
    "# Lists (and all collections) are also indexed with square brackets\n",
    "# NOTE: The first index is zero, not one\n",
    "print(a[0])\n",
    "print(a[1])"
   ]
  },
  {
   "cell_type": "code",
   "execution_count": 4,
   "metadata": {},
   "outputs": [
    {
     "name": "stdout",
     "output_type": "stream",
     "text": [
      "last item is: pineapple\n",
      "second to last item is: strawberry\n"
     ]
    }
   ],
   "source": [
    "# You can also count from the end of the list\n",
    "print('last item is:', a[-1])\n",
    "print('second to last item is:', a[-2])"
   ]
  },
  {
   "cell_type": "code",
   "execution_count": 12,
   "metadata": {},
   "outputs": [
    {
     "data": {
      "text/plain": [
       "[0, 1]"
      ]
     },
     "execution_count": 12,
     "metadata": {},
     "output_type": "execute_result"
    }
   ],
   "source": [
    "b = [0, 1, 2, 3, 4, 5]\n",
    "b[0:2]"
   ]
  },
  {
   "cell_type": "code",
   "execution_count": 13,
   "metadata": {},
   "outputs": [
    {
     "data": {
      "text/plain": [
       "[0, 1, 2, 3, 4]"
      ]
     },
     "execution_count": 13,
     "metadata": {},
     "output_type": "execute_result"
    }
   ],
   "source": [
    "b[:-1]"
   ]
  },
  {
   "cell_type": "code",
   "execution_count": 14,
   "metadata": {},
   "outputs": [
    {
     "data": {
      "text/plain": [
       "[4, 3, 2]"
      ]
     },
     "execution_count": 14,
     "metadata": {},
     "output_type": "execute_result"
    }
   ],
   "source": [
    "b[-2:1:-1]"
   ]
  },
  {
   "cell_type": "code",
   "execution_count": 15,
   "metadata": {},
   "outputs": [
    {
     "data": {
      "text/plain": [
       "[0, 1, 2, 3, 4, 5, 7]"
      ]
     },
     "execution_count": 15,
     "metadata": {},
     "output_type": "execute_result"
    }
   ],
   "source": [
    "b.append(7)\n",
    "b"
   ]
  },
  {
   "cell_type": "code",
   "execution_count": 16,
   "metadata": {},
   "outputs": [
    {
     "data": {
      "text/plain": [
       "[0, 1, 2, 3, 4, 5, 7, 8, 9, 8, 9]"
      ]
     },
     "execution_count": 16,
     "metadata": {},
     "output_type": "execute_result"
    }
   ],
   "source": [
    "b+[8,9]*2"
   ]
  },
  {
   "cell_type": "code",
   "execution_count": 17,
   "metadata": {},
   "outputs": [
    {
     "data": {
      "text/plain": [
       "7"
      ]
     },
     "execution_count": 17,
     "metadata": {},
     "output_type": "execute_result"
    }
   ],
   "source": [
    "len(b)"
   ]
  },
  {
   "cell_type": "markdown",
   "metadata": {},
   "source": [
    "**TIP**: A 'gotcha' for some new Python users is that collections, including lists, are actually only the name, refreencing to data, and are not the data itself.\n",
    "\n",
    "Remember when we set b = a and then changed a?\n",
    "\n",
    "What happens when we do this in a list?\n"
   ]
  },
  {
   "cell_type": "code",
   "execution_count": null,
   "metadata": {},
   "outputs": [],
   "source": [
    "a = [1, 2, \"banana\", 3]\n",
    "b = a\n",
    "print(\"b originally:\", b)\n",
    "a[0] = \"cheesecake\"\n",
    "print(\"b later:\", b)"
   ]
  },
  {
   "cell_type": "raw",
   "metadata": {},
   "source": [
    "\n",
    "\n",
    "\n",
    "\n",
    "\n"
   ]
  },
  {
   "cell_type": "markdown",
   "metadata": {},
   "source": [
    "Because lists are **mutable**, we can perform changes to a list, unlike a string! To get rid of side-effects, you need to perform a **deep copy** of the object."
   ]
  },
  {
   "cell_type": "code",
   "execution_count": null,
   "metadata": {},
   "outputs": [],
   "source": [
    "# the copy-module helps us here!\n",
    "from copy import deepcopy\n",
    "a = [1, 2, \"banana\", 3]\n",
    "b = deepcopy(a)  #in the case of lists, an alternative ('soft copy') would be b = a[:]\n",
    "a[0] = \"cheesecake\"\n",
    "print(b)"
   ]
  },
  {
   "cell_type": "markdown",
   "metadata": {},
   "source": [
    "To check if a list contains a value, the **in**-operator is used."
   ]
  },
  {
   "cell_type": "code",
   "execution_count": 19,
   "metadata": {
    "scrolled": true
   },
   "outputs": [
    {
     "data": {
      "text/plain": [
       "True"
      ]
     },
     "execution_count": 19,
     "metadata": {},
     "output_type": "execute_result"
    }
   ],
   "source": [
    "\"banana\" in a"
   ]
  },
  {
   "cell_type": "markdown",
   "metadata": {},
   "source": [
    "#### Interlude: modules.\n",
    "\n",
    "In code of other's, you'll often find imported modules. If the interpreter runs over the import without complaining, they are part of python's standard-lib and everything is fine. If they are not, they are probably installable over pip, which means you can just `pip install modulename` or `conda install modulename` them.\n",
    "For some obscure reason however, some modules have a different name than what they're imported with. In that case, it helped for me to google `pypi modulename` to find the name of the package itself, which you can then install using pip/conda"
   ]
  },
  {
   "cell_type": "markdown",
   "metadata": {},
   "source": [
    "# Dictionaries\n",
    "Dictionaries are the collection to use when you want to store and retrieve things by their names (or some other kind of key) instead of by their position in the collection. A good example is a set of model parameters, each of which has a name and a value. Dictionaries are declared using {}."
   ]
  },
  {
   "cell_type": "code",
   "execution_count": 20,
   "metadata": {},
   "outputs": [
    {
     "name": "stdout",
     "output_type": "stream",
     "text": [
      "{'inches_in_feet': 12, 'inches_in_metre': 39}\n",
      "12\n"
     ]
    }
   ],
   "source": [
    "# Make a dictionary of model parameters\n",
    "convertors = {'inches_in_feet' : 12,\n",
    "              'inches_in_metre' : 39}\n",
    "\n",
    "print(convertors)\n",
    "print(convertors['inches_in_feet'])"
   ]
  },
  {
   "cell_type": "code",
   "execution_count": 21,
   "metadata": {},
   "outputs": [
    {
     "name": "stdout",
     "output_type": "stream",
     "text": [
      "{'inches_in_feet': 12, 'inches_in_metre': 39, 'metres_in_mile': 1609.34}\n"
     ]
    }
   ],
   "source": [
    "# Add a new key:value pair\n",
    "convertors['metres_in_mile'] = 1609.34\n",
    "print(convertors)"
   ]
  },
  {
   "cell_type": "code",
   "execution_count": 22,
   "metadata": {},
   "outputs": [
    {
     "ename": "KeyError",
     "evalue": "'decimetres_in_meter'",
     "output_type": "error",
     "traceback": [
      "\u001b[0;31m---------------------------------------------------------------------------\u001b[0m",
      "\u001b[0;31mKeyError\u001b[0m                                  Traceback (most recent call last)",
      "\u001b[0;32m<ipython-input-22-36cb44095b1f>\u001b[0m in \u001b[0;36m<module>\u001b[0;34m()\u001b[0m\n\u001b[1;32m      1\u001b[0m \u001b[0;31m# Raise a Key-Error\u001b[0m\u001b[0;34m\u001b[0m\u001b[0;34m\u001b[0m\u001b[0m\n\u001b[0;32m----> 2\u001b[0;31m \u001b[0mprint\u001b[0m\u001b[0;34m(\u001b[0m\u001b[0mconvertors\u001b[0m\u001b[0;34m[\u001b[0m\u001b[0;34m'decimetres_in_meter'\u001b[0m\u001b[0;34m]\u001b[0m\u001b[0;34m)\u001b[0m\u001b[0;34m\u001b[0m\u001b[0m\n\u001b[0m",
      "\u001b[0;31mKeyError\u001b[0m: 'decimetres_in_meter'"
     ]
    }
   ],
   "source": [
    "# Raise a Key-Error\n",
    "print(convertors['decimetres_in_meter'])"
   ]
  },
  {
   "cell_type": "code",
   "execution_count": 23,
   "metadata": {},
   "outputs": [
    {
     "name": "stdout",
     "output_type": "stream",
     "text": [
      "Wasn't in there!\n",
      "<Placeholder for emptyness>\n"
     ]
    }
   ],
   "source": [
    "# To check if a key is in a dictionary:\n",
    "if 'decimetres_in_meter' in convertors:\n",
    "    print(convertors['decimetres_in_meter'])\n",
    "else:\n",
    "    print(\"Wasn't in there!\")\n",
    "    \n",
    "# Alternatively, we can use the get-method:\n",
    "print(convertors.get('decimetres_in_meter', '<Placeholder for emptyness>'))"
   ]
  },
  {
   "cell_type": "code",
   "execution_count": 24,
   "metadata": {},
   "outputs": [
    {
     "name": "stdout",
     "output_type": "stream",
     "text": [
      "['inches_in_feet', 'inches_in_metre', 'metres_in_mile'] <class 'list'>\n",
      "[12, 39, 1609.34] <class 'list'>\n",
      "[('inches_in_feet', 12), ('inches_in_metre', 39), ('metres_in_mile', 1609.34)] <class 'list'>\n"
     ]
    }
   ],
   "source": [
    "key_list = list(convertors.keys())\n",
    "print(key_list, type(key_list))\n",
    "\n",
    "value_list = list(convertors.values())\n",
    "print(value_list, type(value_list))\n",
    "\n",
    "key_val_list = list(convertors.items()) #note that this was called iteritems until Python 2.7!\n",
    "print(key_val_list, type(key_val_list))"
   ]
  },
  {
   "cell_type": "markdown",
   "metadata": {},
   "source": [
    "# Control structures"
   ]
  },
  {
   "cell_type": "code",
   "execution_count": 26,
   "metadata": {},
   "outputs": [
    {
     "name": "stdout",
     "output_type": "stream",
     "text": [
      "True!\n"
     ]
    }
   ],
   "source": [
    "if 1+1 == 2:\n",
    "    print(\"True!\")\n",
    "else:\n",
    "    print(\"False!\")\n",
    "    \n",
    "#if you just want to check for truth, you can omit the == True."
   ]
  },
  {
   "cell_type": "markdown",
   "metadata": {},
   "source": [
    "#### 'Truthyness'\n",
    "\n",
    "Any object can be tested for truth value, for use in an if or while condition or as operand of the Boolean operations. The following objects are considered false:\n",
    "* None\n",
    "* False\n",
    "* Zero of numeric types (0, 0.0)\n",
    "* Empty sequences ('', [], set())\n",
    "* Empty mappings ({})\n",
    "* User-defined classes that currently return 0 for len(class)"
   ]
  },
  {
   "cell_type": "code",
   "execution_count": 27,
   "metadata": {},
   "outputs": [
    {
     "name": "stdout",
     "output_type": "stream",
     "text": [
      "All of these are interpreted as False!\n"
     ]
    }
   ],
   "source": [
    "if [] or False or None or 0 or '':\n",
    "    print(\"At least one of these is interpreted as True!\")\n",
    "else:\n",
    "    print(\"All of these are interpreted as False!\")"
   ]
  },
  {
   "cell_type": "code",
   "execution_count": 28,
   "metadata": {},
   "outputs": [
    {
     "name": "stdout",
     "output_type": "stream",
     "text": [
      "No valid option!\n"
     ]
    }
   ],
   "source": [
    "# there's no switch-case as in java, but there's....\n",
    "command = \"append\"\n",
    "if command == \"pop\":\n",
    "    print(\"popping\")\n",
    "elif command == \"push\":\n",
    "    print(\"pushing\")\n",
    "elif command == \"top\":\n",
    "    print(\"looking at the top\")\n",
    "else:\n",
    "    print(\"No valid option!\")"
   ]
  },
  {
   "cell_type": "markdown",
   "metadata": {},
   "source": [
    "## Loops"
   ]
  },
  {
   "cell_type": "code",
   "execution_count": 29,
   "metadata": {},
   "outputs": [],
   "source": [
    "#while-loop\n",
    "inpt = \"\"\n",
    "while not inpt.isnumeric():\n",
    "    inpt = input(\"Enter a number \")"
   ]
  },
  {
   "cell_type": "code",
   "execution_count": 30,
   "metadata": {},
   "outputs": [],
   "source": [
    "#there is no do-while loop in python, however you can emulate that\n",
    "while True:\n",
    "    inpt = input(\"Enter a number \")\n",
    "    if inpt.isnumeric():\n",
    "        break\n",
    "#in python, using infinite loops + break is not considered dirty"
   ]
  },
  {
   "cell_type": "markdown",
   "metadata": {},
   "source": [
    "#### Java-Style for-Loop\n",
    "\n",
    "In Java, a for-loop consists of three elements: Assigning a value for an index-variable, an stopping criterion, and a piece of code that runs every iteration: `for (int i = 0; i < 10; i++)` This maps simply to a while-loop:"
   ]
  },
  {
   "cell_type": "code",
   "execution_count": 32,
   "metadata": {},
   "outputs": [],
   "source": [
    "i = 0\n",
    "while i < 10:\n",
    "    #run code\n",
    "    i += 1"
   ]
  },
  {
   "cell_type": "markdown",
   "metadata": {},
   "source": [
    "**\n",
    "In Python, every for-loop is a for-each-loop, something far more powerful, that can't be emulated with a simple while-loop!**"
   ]
  },
  {
   "cell_type": "markdown",
   "metadata": {},
   "source": [
    "##### Iterators"
   ]
  },
  {
   "cell_type": "code",
   "execution_count": 34,
   "metadata": {},
   "outputs": [
    {
     "name": "stdout",
     "output_type": "stream",
     "text": [
      "1\n",
      "2\n",
      "3\n",
      "4\n",
      "s\n",
      "t\n",
      "r\n",
      "i\n",
      "n\n",
      "g\n"
     ]
    }
   ],
   "source": [
    "for i in [1, 2, 3, 4]:\n",
    "    print(i)\n",
    "    \n",
    "for i in \"string\":\n",
    "    print(i)"
   ]
  },
  {
   "cell_type": "markdown",
   "metadata": {},
   "source": [
    "###### Range"
   ]
  },
  {
   "cell_type": "code",
   "execution_count": 35,
   "metadata": {},
   "outputs": [
    {
     "name": "stdout",
     "output_type": "stream",
     "text": [
      "[0, 1, 2, 3, 4, 5]\n",
      "<class 'range'>\n"
     ]
    }
   ],
   "source": [
    "print(list(range(6)))\n",
    "print(type(range(6)))"
   ]
  },
  {
   "cell_type": "code",
   "execution_count": 6,
   "metadata": {},
   "outputs": [
    {
     "name": "stdout",
     "output_type": "stream",
     "text": [
      "0\n",
      "1\n",
      "2\n",
      "3\n",
      "4\n",
      "5\n",
      "\n",
      "2\n",
      "3\n",
      "4\n",
      "5\n",
      "\n",
      "2\n",
      "4\n",
      "afterwards 4\n"
     ]
    }
   ],
   "source": [
    "for i in range(6):\n",
    "    print(i)\n",
    "\n",
    "print()\n",
    "for i in range(2,6):\n",
    "    print(i)\n",
    "\n",
    "print()\n",
    "for i in range(2,6,2):\n",
    "    print(i)\n",
    "print(\"afterwards\", i) #note that it stays the same outside its scope!"
   ]
  },
  {
   "cell_type": "code",
   "execution_count": 38,
   "metadata": {},
   "outputs": [
    {
     "name": "stdout",
     "output_type": "stream",
     "text": [
      "num: 1 grade: Outstanding\n",
      "num: 2 grade: Exceeds Expectations\n",
      "num: 3 grade: Acceptable\n",
      "num: 4 grade: Poor\n",
      "num: 5 grade: Dreadful\n",
      "num: 6 grade: Troll\n"
     ]
    }
   ],
   "source": [
    "# Enumerate gives you an additional index!\n",
    "    \n",
    "grades = [\"Outstanding\", \"Exceeds Expectations\", \"Acceptable\", \"Poor\", \"Dreadful\", \"Troll\"]\n",
    "for i, grade in enumerate(grades):\n",
    "    print(\"num:\",i+1,\"grade:\",grade)"
   ]
  },
  {
   "cell_type": "markdown",
   "metadata": {},
   "source": [
    "**Note:** when you're iterating through a list, you're actually iterating through an iterator, created from that list! Because of that, *changing values doesn't have any effect!*"
   ]
  },
  {
   "cell_type": "code",
   "execution_count": 39,
   "metadata": {},
   "outputs": [
    {
     "name": "stdout",
     "output_type": "stream",
     "text": [
      "I did reach it\n",
      "['Outstanding', 'Exceeds Expectations', 'Acceptable', 'Poor', 'Dreadful', 'Troll']\n"
     ]
    }
   ],
   "source": [
    "for i in grades:\n",
    "    if i == \"Outstanding\":\n",
    "        print(\"I did reach it\")\n",
    "        i = \"Not so good after all\"\n",
    "print(grades)"
   ]
  },
  {
   "cell_type": "markdown",
   "metadata": {},
   "source": [
    "The easiest way around that is to emulate a standard-for-loop"
   ]
  },
  {
   "cell_type": "code",
   "execution_count": 40,
   "metadata": {},
   "outputs": [
    {
     "name": "stdout",
     "output_type": "stream",
     "text": [
      "['Not so good after all', 'Exceeds Expectations', 'Acceptable', 'Poor', 'Dreadful', 'Troll']\n"
     ]
    }
   ],
   "source": [
    "for i in range(len(grades)):\n",
    "    if grades[i] == \"Outstanding\":\n",
    "        grades[i] = \"Not so good after all\"\n",
    "print(grades)"
   ]
  },
  {
   "cell_type": "markdown",
   "metadata": {},
   "source": [
    "# Comprehensions\n",
    "\n",
    "One of the things python is most well-known for is its ability to do complex things in a single line. **List/Tuple/Dict comprehension** allows to do merge operations on elements of iterables into a single line"
   ]
  },
  {
   "cell_type": "code",
   "execution_count": 15,
   "metadata": {},
   "outputs": [
    {
     "data": {
      "text/plain": [
       "[1, 4, 9, 16, 25]"
      ]
     },
     "execution_count": 15,
     "metadata": {},
     "output_type": "execute_result"
    }
   ],
   "source": [
    "original_numbers = [1,2,3,4,5]\n",
    "squared_numbers = []\n",
    "for i in original_numbers:\n",
    "    squared_numbers.append(i**2)\n",
    "    \n",
    "squared_numbers"
   ]
  },
  {
   "cell_type": "code",
   "execution_count": 16,
   "metadata": {},
   "outputs": [
    {
     "data": {
      "text/plain": [
       "[1, 4, 9, 16, 25]"
      ]
     },
     "execution_count": 16,
     "metadata": {},
     "output_type": "execute_result"
    }
   ],
   "source": [
    "squared_numbers = [\n",
    "                   i**2 \n",
    "                   for i in original_numbers\n",
    "                  ]\n",
    "squared_numbers"
   ]
  },
  {
   "cell_type": "code",
   "execution_count": 17,
   "metadata": {},
   "outputs": [
    {
     "data": {
      "text/plain": [
       "[1, 4, 7]"
      ]
     },
     "execution_count": 17,
     "metadata": {},
     "output_type": "execute_result"
    }
   ],
   "source": [
    "original_values = [(1, True), (2, False), (3, False), (4, True), (5, False), (7, True)]\n",
    "only_trues = []\n",
    "for i in original_values:\n",
    "    if i[1]:\n",
    "        only_trues.append(i[0])\n",
    "\n",
    "only_trues"
   ]
  },
  {
   "cell_type": "code",
   "execution_count": 28,
   "metadata": {},
   "outputs": [
    {
     "data": {
      "text/plain": [
       "[1, 4, 7]"
      ]
     },
     "execution_count": 28,
     "metadata": {},
     "output_type": "execute_result"
    }
   ],
   "source": [
    "only_trues = [\n",
    "              i[0]                      # what to do with the values from the old list\n",
    "              for i in original_values  # for-loop like syntax\n",
    "              if i[1]                   # filtering. \n",
    "             ]\n",
    "only_trues"
   ]
  },
  {
   "cell_type": "markdown",
   "metadata": {},
   "source": [
    "Comprehensions make code so much shorter:"
   ]
  },
  {
   "cell_type": "code",
   "execution_count": 23,
   "metadata": {},
   "outputs": [],
   "source": [
    "a = [1, 2, \"alphabet\", 4, 5]\n",
    "def does_list_only_contain_integers(ls):\n",
    "    for i in ls:\n",
    "        if not isinstance(i, int):\n",
    "            return False\n",
    "    return True"
   ]
  },
  {
   "cell_type": "code",
   "execution_count": 24,
   "metadata": {},
   "outputs": [
    {
     "data": {
      "text/plain": [
       "False"
      ]
     },
     "execution_count": 24,
     "metadata": {},
     "output_type": "execute_result"
    }
   ],
   "source": [
    "does_list_only_contain_integers(a)"
   ]
  },
  {
   "cell_type": "code",
   "execution_count": 25,
   "metadata": {},
   "outputs": [
    {
     "data": {
      "text/plain": [
       "False"
      ]
     },
     "execution_count": 25,
     "metadata": {},
     "output_type": "execute_result"
    }
   ],
   "source": [
    "all([isinstance(i, int) for i in a])"
   ]
  },
  {
   "cell_type": "markdown",
   "metadata": {},
   "source": [
    "# More Python\n",
    "* Shameless self-promotion: The three-hour-version of this is available at Github, including a link to the video-version: https://github.com/scientificprogrammingUOS/lectures (I recommend to watch lectures 2 and 3, as one is mainly organisational stuff)\n",
    "* I also made a shell tutorial, in case you're unfamiliar with it and want to get to know it better: https://www.youtube.com/watch?v=tZv6TFI6iqQ, https://www.youtube.com/watch?v=ktPyzajVnsU, and a super-short video about how to add something to your PATH in windows: https://www.youtube.com/watch?v=fBT7Cgus7t4"
   ]
  },
  {
   "cell_type": "code",
   "execution_count": null,
   "metadata": {},
   "outputs": [],
   "source": []
  }
 ],
 "metadata": {
  "kernelspec": {
   "display_name": "Python 3",
   "language": "python",
   "name": "python3"
  },
  "language_info": {
   "codemirror_mode": {
    "name": "ipython",
    "version": 3
   },
   "file_extension": ".py",
   "mimetype": "text/x-python",
   "name": "python",
   "nbconvert_exporter": "python",
   "pygments_lexer": "ipython3",
   "version": "3.6.5"
  }
 },
 "nbformat": 4,
 "nbformat_minor": 2
}
